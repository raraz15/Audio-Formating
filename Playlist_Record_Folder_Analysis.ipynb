{
 "cells": [
  {
   "cell_type": "markdown",
   "metadata": {},
   "source": [
    "# Playlist, Record Folder Analysis\n",
    "\n",
    "This notebook is for comparing the records between folders and playlists. It works with text files exported from rekordbox KUVO. "
   ]
  },
  {
   "cell_type": "markdown",
   "metadata": {},
   "source": [
    "#If pandas is not installed, run this cell\n",
    "!pip install pandas"
   ]
  },
  {
   "cell_type": "code",
   "execution_count": 1,
   "metadata": {},
   "outputs": [],
   "source": [
    "import os\n",
    "import pandas as pd"
   ]
  },
  {
   "cell_type": "code",
   "execution_count": 18,
   "metadata": {},
   "outputs": [],
   "source": [
    "def clean_directory(record_list):\n",
    "    \"\"\"\n",
    "    This method cleans the directory list from non-audio files.\n",
    "    You can extend the supported audio formats by simply appending to the format_list.\n",
    "    \"\"\"\n",
    "    format_list = [\"wav\",\"mp3\",\"flac\",\"alac\",\"aiff\",\"m4a\"]    \n",
    "    \n",
    "    return [x for x in record_list if x.split(\".\")[-1] in format_list]\n",
    "\n",
    "def strip_format(record_list):\n",
    "    \"\"\"\n",
    "    This method strips the file format and returns the title tracks in a list.\n",
    "    \"\"\"\n",
    "        \n",
    "    record_names = []\n",
    "    \n",
    "    for title in record_list:\n",
    "\n",
    "        file_format = title.split('.')[-1]                      \n",
    "        record_names.append(title.strip(\".\"+file_format))\n",
    "\n",
    "    return record_names\n",
    "\n",
    "def track_display(record_list):\n",
    "    \"\"\"\n",
    "    This method displays the first 30 records inside a list or a set.\n",
    "    \"\"\"\n",
    "    \n",
    "    \n",
    "    if len(record_list) < 30:\n",
    "        for name in record_list:\n",
    "            print(name)\n",
    "    else:\n",
    "        counter = 0\n",
    "        for name in record_list:\n",
    "            if counter<30:       \n",
    "                print(name)\n",
    "                counter += 1\n",
    "            else:\n",
    "                print(\"...\")\n",
    "                break     \n",
    "                \n",
    "                \n",
    "def compare_folders(path0,path1):\n",
    "    \"\"\"\n",
    "    This method compares the tracks in given two folders.\n",
    "    \"\"\"\n",
    "    \n",
    "    #List the directory and clean it from non-audio files\n",
    "    record_list0 = clean_directory(os.listdir(path0))\n",
    "    record_list1 = clean_directory(os.listdir(path1))\n",
    "    \n",
    "    #Strip the file formats              \n",
    "    folder0 = set(strip_format(record_list0))\n",
    "    folder1 = set(strip_format(record_list1))\n",
    "    \n",
    "    print(\"There are {} records in folder {}.\".format(len(folder0),path0))\n",
    "    print(\"There are {} records in folder {}\\n.\".format(len(folder1),path1))\n",
    "    \n",
    "    common = folder0.intersection(folder1)\n",
    "    \n",
    "    print(\"Folders have {} common records.\\n\".format(len(common)))\n",
    "    \n",
    "    if len(common) >0:        \n",
    "        print(\"Common record(s):\\n\")   \n",
    "        \n",
    "        track_display(common)    \n",
    "       \n",
    "    return folder0, folder1"
   ]
  },
  {
   "cell_type": "markdown",
   "metadata": {},
   "source": [
    "## 1) Compare two Record folders"
   ]
  },
  {
   "cell_type": "code",
   "execution_count": 19,
   "metadata": {},
   "outputs": [
    {
     "name": "stdout",
     "output_type": "stream",
     "text": [
      "There are 305 records in folder ..\\Music\\Tech House.\n",
      "There are 54 records in folder ..\\Music\\House\n",
      ".\n",
      "Folders have 1 common records.\n",
      "\n",
      "Common record(s):\n",
      "\n",
      "Boogie Vice - Enter The Rave\n"
     ]
    }
   ],
   "source": [
    "fold0,fold1 = compare_folders(os.path.join(\"..\\Music\",\"Tech House\"),os.path.join(\"..\\Music\",\"House\"))"
   ]
  },
  {
   "cell_type": "markdown",
   "metadata": {},
   "source": [
    "## 2) Compare Playlist with Folder"
   ]
  },
  {
   "cell_type": "markdown",
   "metadata": {},
   "source": [
    "### Read from text file\n",
    "Use the text file that is exported from Rekordbox containing playlist information."
   ]
  },
  {
   "cell_type": "markdown",
   "metadata": {},
   "source": [
    "**Enter the file directory here**"
   ]
  },
  {
   "cell_type": "code",
   "execution_count": 4,
   "metadata": {},
   "outputs": [],
   "source": [
    "genre = \"Tech House\"\n",
    "textDir = os.path.join(\"Playlist Info\",genre+\".txt\")"
   ]
  },
  {
   "cell_type": "code",
   "execution_count": 14,
   "metadata": {
    "scrolled": true
   },
   "outputs": [
    {
     "name": "stdout",
     "output_type": "stream",
     "text": [
      "Columns in the text file:\n",
      "\n",
      "#\n",
      "Time\n",
      "BPM\n",
      "Key\n",
      "Track Title\n",
      "My Tag\n",
      "Rating\n",
      "Genre\n",
      "Sample Rate\n",
      "Bitdepth\n",
      "Bitrate\n"
     ]
    }
   ],
   "source": [
    "txt_df = pd.read_csv(textDir,encoding='utf-16',sep='\\t')\n",
    "headers = list(txt_df)\n",
    "print(\"Columns in the text file:\\n\")\n",
    "for col in headers:\n",
    "    print(col)\n",
    "    \n",
    "record_names_txt = txt_df['Track Title'].tolist()"
   ]
  },
  {
   "cell_type": "markdown",
   "metadata": {},
   "source": [
    "### Read from a folder "
   ]
  },
  {
   "cell_type": "markdown",
   "metadata": {},
   "source": [
    "**Enter the folder directory here.**"
   ]
  },
  {
   "cell_type": "code",
   "execution_count": 6,
   "metadata": {},
   "outputs": [],
   "source": [
    "genre = \"Tech House\"\n",
    "dataDir = os.path.join(\"..\\Music\",genre) "
   ]
  },
  {
   "cell_type": "code",
   "execution_count": 7,
   "metadata": {},
   "outputs": [],
   "source": [
    "record_names_fold = clean_directory(os.listdir(dataDir))\n",
    "record_names_fold = strip_format(record_names_fold)"
   ]
  },
  {
   "cell_type": "markdown",
   "metadata": {},
   "source": [
    "### Compare"
   ]
  },
  {
   "cell_type": "code",
   "execution_count": 13,
   "metadata": {},
   "outputs": [
    {
     "name": "stdout",
     "output_type": "stream",
     "text": [
      "There are 305 records in the folder: ..\\Music\\Tech House.\n",
      "There are 242 records in the text file with path: Playlist Info\\Tech House.txt.\n",
      "\n",
      "These folders have 239 common records.\n",
      "\n",
      "Common record(s):\n",
      "\n",
      "SIMON HARRIS feat. Morrison - This Is Serious (Dennis Cruz Remix)\n",
      "Pegassi - L.A Kitty\n",
      "Kyle Watson - Give You So\n",
      "Technasia & Green Velvet - Suga (Original Mix)\n",
      "Format B - The Scoop (Original Mix)\n",
      "Guz - Without You (feat. Hannah Jane Lewis) [Official Audio]\n",
      "Lexlay - The Chorus (Original Mix)\n",
      "Blue Foundation - Eyes On Fire (Michael Bibi Remix)\n",
      "Gorgon City - Grooves On The Vinyl (Official Video)\n",
      "Josh Wink - How's Your Evening So Far (Chris Lake Remix)\n",
      "Monodisco - Lion King (Original Mix)\n",
      "Huxley, Skapes - Shut Down (Original Mix) [Relief]\n",
      "Juliet Sikora -  Let Me Think\n",
      "Chapter & Verse - Dreams\n",
      "ANOTR - Don't Mind Ya Weight (Original Mix)\n",
      "Late Replies - Raw (Original Mix)\n",
      "Work (Extended Mix)\n",
      "Darius Syrossian - Kouka (Extended Mix)\n",
      "Christian Smith - The Exchange (Original Mix)\n",
      "Duke Dumont - Red Light Green Light (Riva Starr Remix _ Audio) ft. Shaun Ross\n",
      "Sorley - Deadeye (Extended Mix)\n",
      "Papa Marlin - So Long\n",
      "Martin Ikin - Hooked (Extended) [Catch & Release]\n",
      "Sexus - DJ Anna Remix\n",
      "FISHER - Freaks (Audio)\n",
      "Endor - Fur (Extended Mix)\n",
      "Carl Cox - I Want You (Forever) - Josh Butler Remix\n",
      "Mihalis Safras & Raffa FL - Freedom (Mat.Joe Remix) [Glasgow Underground]\n",
      "Dale Howard - Don't Touch\n",
      "PAX - Catfish (Extended Mix)[Armada Subjekt]\n",
      "...\n"
     ]
    }
   ],
   "source": [
    "folder = set(record_names_fold)\n",
    "txt = set(record_names_txt)\n",
    "\n",
    "print(\"There are {} records in the folder: {}.\".format(len(folder),dataDir))\n",
    "print(\"There are {} records in the text file with path: {}.\\n\".format(len(txt),textDir))\n",
    "\n",
    "common = folder.intersection(txt)\n",
    "\n",
    "print(\"These folders have {} common records.\\n\".format(len(common)))\n",
    "\n",
    "dif0 = folder.difference(txt)\n",
    "dif1 = txt.difference(folder)\n",
    "\n",
    "print(\"Common record(s):\\n\")\n",
    "\n",
    "track_display(common)"
   ]
  },
  {
   "cell_type": "markdown",
   "metadata": {},
   "source": [
    "# 3)Compare two Playlists"
   ]
  },
  {
   "cell_type": "markdown",
   "metadata": {},
   "source": [
    "**Enter playlist names here.**"
   ]
  },
  {
   "cell_type": "code",
   "execution_count": 9,
   "metadata": {},
   "outputs": [],
   "source": [
    "playlist0_name = \"Hard Tech House\"\n",
    "playlist1_name = \"Rough Tech House\""
   ]
  },
  {
   "cell_type": "code",
   "execution_count": 11,
   "metadata": {},
   "outputs": [
    {
     "name": "stdout",
     "output_type": "stream",
     "text": [
      "There are 86 tracks in the playlist Hard Tech House.\n",
      "There are 123 tracks in the playlist Rough Tech House\n",
      ".\n",
      "Playlists have 16 common tracks.\n",
      "\n",
      "Common track(s):\n",
      "\n",
      "Ben Sterling - Danger\n",
      "Frankie's Story (Extended Mix)\n",
      "Solardo - Fall Down\n",
      "Speed (Miguel Bastida Remix)\n",
      "Ocean Roulette & VNSSA - Magic (Steve Darko Remix)\n",
      "Wade - All Night Long\n",
      "Millad - Razo\n",
      "Martin Ikin - PWR (Original Mix) [elrow Music]\n",
      "Eyecode (Original Mix)\n",
      "Andrea Oliva - Freaks (Solardo Acid Remix)\n",
      "Billy Kenny - Just Came For The Music (Extended Mix)\n",
      "Sensual (Original Mix)\n",
      "Darius Syrossian - Kouka (Extended Mix)\n",
      "Eli Brown - To The Place\n",
      "Billy Kenny & Huxley - Sweat\n",
      "Rendher, Richard Ulh - Dancing Like Madonna\n"
     ]
    }
   ],
   "source": [
    "path0 = os.path.join(\"Playlist Info\",playlist0_name+\".txt\")\n",
    "path1 = os.path.join(\"Playlist Info\",playlist1_name+\".txt\")\n",
    "\n",
    "txt0_df = pd.read_csv(path0,encoding='utf-16',sep='\\t')\n",
    "txt1_df = pd.read_csv(path1,encoding='utf-16',sep='\\t')\n",
    "\n",
    "record_names_txt0 = txt0_df['Track Title'].tolist()\n",
    "record_names_txt1 = txt1_df['Track Title'].tolist()\n",
    "\n",
    "pl0 = set(record_names_txt0)\n",
    "pl1 = set(record_names_txt1)\n",
    "\n",
    "print(\"There are {} tracks in the playlist {}.\".format(len(pl0),playlist0_name))\n",
    "print(\"There are {} tracks in the playlist {}\\n.\".format(len(pl1),playlist1_name))\n",
    "\n",
    "intersect = pl0.intersection(pl1)\n",
    "\n",
    "print(\"Playlists have {} common tracks.\\n\".format(len(intersect)))\n",
    "\n",
    "dif0 = pl0.difference(pl1)\n",
    "dif1 = pl1.difference(pl0)\n",
    "\n",
    "print(\"Common track(s):\\n\")\n",
    "for name in intersect:\n",
    "    print(name)"
   ]
  },
  {
   "cell_type": "code",
   "execution_count": null,
   "metadata": {},
   "outputs": [],
   "source": []
  }
 ],
 "metadata": {
  "kernelspec": {
   "display_name": "Python 3",
   "language": "python",
   "name": "python3"
  },
  "language_info": {
   "codemirror_mode": {
    "name": "ipython",
    "version": 3
   },
   "file_extension": ".py",
   "mimetype": "text/x-python",
   "name": "python",
   "nbconvert_exporter": "python",
   "pygments_lexer": "ipython3",
   "version": "3.8.3"
  }
 },
 "nbformat": 4,
 "nbformat_minor": 4
}
